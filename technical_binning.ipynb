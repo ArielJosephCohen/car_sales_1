{
 "cells": [
  {
   "cell_type": "markdown",
   "metadata": {},
   "source": [
    "# **Introduction**:\n",
    "#### Basically - I will attempt to predict the amount someone will pay for a car based on some inputs\n",
    "\n",
    "#### The first model was a regression model. This is my classification model which worked better"
   ]
  },
  {
   "cell_type": "code",
   "execution_count": 1,
   "metadata": {},
   "outputs": [],
   "source": [
    "import pandas as pd\n",
    "import numpy as np\n",
    "import statsmodels.api as sm\n",
    "import warnings\n",
    "warnings.filterwarnings('ignore')\n",
    "import matplotlib.pyplot as plt\n",
    "import seaborn as sns\n",
    "from sklearn.model_selection import train_test_split\n",
    "from sklearn.ensemble import RandomForestClassifier\n",
    "from sklearn.naive_bayes import GaussianNB\n",
    "from sklearn.linear_model import LogisticRegression, LinearRegression\n",
    "from sklearn.preprocessing import MinMaxScaler\n",
    "from scipy import stats\n",
    "from sklearn.metrics import accuracy_score, recall_score, f1_score, precision_score, roc_auc_score, mean_squared_error, r2_score\n",
    "from sklearn.tree import DecisionTreeClassifier\n",
    "from xgboost import XGBClassifier\n",
    "from sklearn.svm import LinearSVC\n",
    "from sklearn.linear_model import SGDClassifier\n",
    "from sklearn.svm import SVC\n",
    "from sklearn.neighbors import KNeighborsClassifier\n",
    "from sklearn.metrics import classification_report\n",
    "from sklearn.metrics import confusion_matrix\n",
    "from sklearn.feature_selection import RFE, RFECV\n",
    "from sklearn.model_selection import StratifiedKFold\n",
    "import datetime as dt\n",
    "from sklearn.preprocessing import PolynomialFeatures"
   ]
  },
  {
   "cell_type": "code",
   "execution_count": 2,
   "metadata": {},
   "outputs": [],
   "source": [
    "df = pd.read_excel('Car_Sales.xlsx')"
   ]
  },
  {
   "cell_type": "code",
   "execution_count": 3,
   "metadata": {},
   "outputs": [],
   "source": [
    "df.dropna(inplace=True)"
   ]
  },
  {
   "cell_type": "code",
   "execution_count": 4,
   "metadata": {},
   "outputs": [],
   "source": [
    "df.drop('Customer Address',axis=1,inplace=True)"
   ]
  },
  {
   "cell_type": "code",
   "execution_count": 5,
   "metadata": {},
   "outputs": [],
   "source": [
    "df.Date = pd.to_datetime(df.Date)\n",
    "df.Date = pd.to_datetime(df.Date,format='%y%m')"
   ]
  },
  {
   "cell_type": "code",
   "execution_count": 6,
   "metadata": {},
   "outputs": [],
   "source": [
    "df.reset_index(inplace=True)"
   ]
  },
  {
   "cell_type": "code",
   "execution_count": 7,
   "metadata": {},
   "outputs": [],
   "source": [
    "dealer_df = df[['Price in thousands','Dealer_Name']].groupby(['Dealer_Name'],as_index=False).mean()"
   ]
  },
  {
   "cell_type": "code",
   "execution_count": 8,
   "metadata": {},
   "outputs": [],
   "source": [
    "dealer_dict = {}\n",
    "for i in range(len(dealer_df)):\n",
    "    dealer_dict[dealer_df.iloc[i,0]]=round(float(dealer_df.iloc[i,1]),3)"
   ]
  },
  {
   "cell_type": "code",
   "execution_count": 9,
   "metadata": {},
   "outputs": [],
   "source": [
    "df.Dealer_Name = df.Dealer_Name.map(lambda x: dealer_dict[x])"
   ]
  },
  {
   "cell_type": "code",
   "execution_count": 10,
   "metadata": {},
   "outputs": [],
   "source": [
    "non_num_list = ['Date','Customer Name','Company','Model','Body Style','Engine','Transmission','Color','Dealer_Add','CouncilArea','Dealer_Location','Dealer_No ','Dealer_Region']"
   ]
  },
  {
   "cell_type": "code",
   "execution_count": 11,
   "metadata": {},
   "outputs": [],
   "source": [
    "gender_dict = {'Male':1,'Female':0}\n",
    "df.Gender = df.Gender.map(lambda x: gender_dict[x])"
   ]
  },
  {
   "cell_type": "code",
   "execution_count": 12,
   "metadata": {},
   "outputs": [],
   "source": [
    "for feature in non_num_list:\n",
    "    dummy_df = df[['Price in thousands',feature]].groupby([feature],as_index=False).mean()\n",
    "    dummy_dict = {}\n",
    "    for i in range(len(dummy_df)):\n",
    "        dummy_dict[dummy_df.iloc[i,0]]=round(float(dummy_df.iloc[i,1]),3)\n",
    "    df[feature] = df[feature].map(lambda x: dummy_dict[x])"
   ]
  },
  {
   "cell_type": "code",
   "execution_count": 13,
   "metadata": {},
   "outputs": [],
   "source": [
    "from sklearn.preprocessing import MinMaxScaler\n",
    "mms = MinMaxScaler()"
   ]
  },
  {
   "cell_type": "code",
   "execution_count": 14,
   "metadata": {},
   "outputs": [],
   "source": [
    "df.drop(['Engine','Dealer_No ','Dealer_Location'],axis=1,inplace=True)"
   ]
  },
  {
   "cell_type": "code",
   "execution_count": 15,
   "metadata": {},
   "outputs": [],
   "source": [
    "df.drop('index',axis=1,inplace=True)"
   ]
  },
  {
   "cell_type": "code",
   "execution_count": 16,
   "metadata": {},
   "outputs": [
    {
     "name": "stdout",
     "output_type": "stream",
     "text": [
      "(34728, 16)\n"
     ]
    },
    {
     "data": {
      "text/html": [
       "<div>\n",
       "<style scoped>\n",
       "    .dataframe tbody tr th:only-of-type {\n",
       "        vertical-align: middle;\n",
       "    }\n",
       "\n",
       "    .dataframe tbody tr th {\n",
       "        vertical-align: top;\n",
       "    }\n",
       "\n",
       "    .dataframe thead th {\n",
       "        text-align: right;\n",
       "    }\n",
       "</style>\n",
       "<table border=\"1\" class=\"dataframe\">\n",
       "  <thead>\n",
       "    <tr style=\"text-align: right;\">\n",
       "      <th></th>\n",
       "      <th>Date</th>\n",
       "      <th>Customer Name</th>\n",
       "      <th>Dealer_Name</th>\n",
       "      <th>Company</th>\n",
       "      <th>Model</th>\n",
       "      <th>Year</th>\n",
       "      <th>Body Style</th>\n",
       "      <th>Transmission</th>\n",
       "      <th>Color</th>\n",
       "      <th>Price in thousands</th>\n",
       "      <th>Dealer_Add</th>\n",
       "      <th>CouncilArea</th>\n",
       "      <th>Phone</th>\n",
       "      <th>Gender</th>\n",
       "      <th>Annual Income</th>\n",
       "      <th>Dealer_Region</th>\n",
       "    </tr>\n",
       "  </thead>\n",
       "  <tbody>\n",
       "    <tr>\n",
       "      <td>0</td>\n",
       "      <td>28.910</td>\n",
       "      <td>27.875</td>\n",
       "      <td>27.602</td>\n",
       "      <td>29.302</td>\n",
       "      <td>22.298</td>\n",
       "      <td>2015</td>\n",
       "      <td>26.130</td>\n",
       "      <td>28.132</td>\n",
       "      <td>28.530</td>\n",
       "      <td>26</td>\n",
       "      <td>28.125</td>\n",
       "      <td>28.255</td>\n",
       "      <td>8264678</td>\n",
       "      <td>1</td>\n",
       "      <td>13500</td>\n",
       "      <td>27.948</td>\n",
       "    </tr>\n",
       "    <tr>\n",
       "      <td>1</td>\n",
       "      <td>27.442</td>\n",
       "      <td>30.042</td>\n",
       "      <td>28.050</td>\n",
       "      <td>26.276</td>\n",
       "      <td>22.368</td>\n",
       "      <td>2015</td>\n",
       "      <td>26.130</td>\n",
       "      <td>28.132</td>\n",
       "      <td>28.530</td>\n",
       "      <td>19</td>\n",
       "      <td>26.750</td>\n",
       "      <td>28.255</td>\n",
       "      <td>6848189</td>\n",
       "      <td>1</td>\n",
       "      <td>1480000</td>\n",
       "      <td>28.052</td>\n",
       "    </tr>\n",
       "    <tr>\n",
       "      <td>2</td>\n",
       "      <td>28.523</td>\n",
       "      <td>24.594</td>\n",
       "      <td>27.858</td>\n",
       "      <td>40.765</td>\n",
       "      <td>42.743</td>\n",
       "      <td>2015</td>\n",
       "      <td>28.730</td>\n",
       "      <td>27.790</td>\n",
       "      <td>28.424</td>\n",
       "      <td>31</td>\n",
       "      <td>32.375</td>\n",
       "      <td>28.255</td>\n",
       "      <td>7298798</td>\n",
       "      <td>1</td>\n",
       "      <td>1035000</td>\n",
       "      <td>27.914</td>\n",
       "    </tr>\n",
       "    <tr>\n",
       "      <td>3</td>\n",
       "      <td>28.523</td>\n",
       "      <td>25.588</td>\n",
       "      <td>28.070</td>\n",
       "      <td>29.417</td>\n",
       "      <td>25.524</td>\n",
       "      <td>2016</td>\n",
       "      <td>26.130</td>\n",
       "      <td>27.790</td>\n",
       "      <td>26.979</td>\n",
       "      <td>14</td>\n",
       "      <td>32.875</td>\n",
       "      <td>28.255</td>\n",
       "      <td>6257557</td>\n",
       "      <td>1</td>\n",
       "      <td>13500</td>\n",
       "      <td>27.904</td>\n",
       "    </tr>\n",
       "    <tr>\n",
       "      <td>4</td>\n",
       "      <td>27.868</td>\n",
       "      <td>26.568</td>\n",
       "      <td>27.741</td>\n",
       "      <td>24.493</td>\n",
       "      <td>22.218</td>\n",
       "      <td>2015</td>\n",
       "      <td>26.802</td>\n",
       "      <td>28.132</td>\n",
       "      <td>28.424</td>\n",
       "      <td>24</td>\n",
       "      <td>22.125</td>\n",
       "      <td>28.255</td>\n",
       "      <td>7081483</td>\n",
       "      <td>1</td>\n",
       "      <td>1465000</td>\n",
       "      <td>28.076</td>\n",
       "    </tr>\n",
       "  </tbody>\n",
       "</table>\n",
       "</div>"
      ],
      "text/plain": [
       "     Date  Customer Name  Dealer_Name  Company   Model  Year  Body Style  \\\n",
       "0  28.910         27.875       27.602   29.302  22.298  2015      26.130   \n",
       "1  27.442         30.042       28.050   26.276  22.368  2015      26.130   \n",
       "2  28.523         24.594       27.858   40.765  42.743  2015      28.730   \n",
       "3  28.523         25.588       28.070   29.417  25.524  2016      26.130   \n",
       "4  27.868         26.568       27.741   24.493  22.218  2015      26.802   \n",
       "\n",
       "   Transmission   Color  Price in thousands  Dealer_Add  CouncilArea    Phone  \\\n",
       "0        28.132  28.530                  26      28.125       28.255  8264678   \n",
       "1        28.132  28.530                  19      26.750       28.255  6848189   \n",
       "2        27.790  28.424                  31      32.375       28.255  7298798   \n",
       "3        27.790  26.979                  14      32.875       28.255  6257557   \n",
       "4        28.132  28.424                  24      22.125       28.255  7081483   \n",
       "\n",
       "   Gender  Annual Income  Dealer_Region  \n",
       "0       1          13500         27.948  \n",
       "1       1        1480000         28.052  \n",
       "2       1        1035000         27.914  \n",
       "3       1          13500         27.904  \n",
       "4       1        1465000         28.076  "
      ]
     },
     "execution_count": 16,
     "metadata": {},
     "output_type": "execute_result"
    }
   ],
   "source": [
    "print(df.shape)\n",
    "df.head()"
   ]
  },
  {
   "cell_type": "code",
   "execution_count": 17,
   "metadata": {},
   "outputs": [],
   "source": [
    "df['Price in thousands'] = (pd.qcut(df['Price in thousands'],q=4))"
   ]
  },
  {
   "cell_type": "code",
   "execution_count": 18,
   "metadata": {},
   "outputs": [],
   "source": [
    "df['Price in thousands'] = df['Price in thousands'].astype(str)"
   ]
  },
  {
   "cell_type": "code",
   "execution_count": 19,
   "metadata": {},
   "outputs": [
    {
     "data": {
      "text/plain": [
       "array(['(23.0, 34.0]', '(18.0, 23.0]', '(8.999, 18.0]', '(34.0, 85.0]'],\n",
       "      dtype=object)"
      ]
     },
     "execution_count": 19,
     "metadata": {},
     "output_type": "execute_result"
    }
   ],
   "source": [
    "df['Price in thousands'].unique()"
   ]
  },
  {
   "cell_type": "code",
   "execution_count": 20,
   "metadata": {},
   "outputs": [],
   "source": [
    "price_dict={'(8.999, 18.0]':1,'(18.0, 23.0]':2,'(23.0, 34.0]':3,'(34.0, 85.0]':4}"
   ]
  },
  {
   "cell_type": "code",
   "execution_count": 21,
   "metadata": {},
   "outputs": [],
   "source": [
    "df['Price in thousands'] = df['Price in thousands'].map(lambda x: price_dict[x])"
   ]
  },
  {
   "cell_type": "code",
   "execution_count": 22,
   "metadata": {},
   "outputs": [
    {
     "data": {
      "text/plain": [
       "array([3, 2, 1, 4])"
      ]
     },
     "execution_count": 22,
     "metadata": {},
     "output_type": "execute_result"
    }
   ],
   "source": [
    "df['Price in thousands'].unique()"
   ]
  },
  {
   "cell_type": "code",
   "execution_count": 23,
   "metadata": {},
   "outputs": [],
   "source": [
    "df['Target']=df['Price in thousands']\n",
    "df.drop('Price in thousands',axis=1,inplace=True)"
   ]
  },
  {
   "cell_type": "code",
   "execution_count": 24,
   "metadata": {},
   "outputs": [],
   "source": [
    "df = df[(np.abs(stats.zscore(df)) <= 2).all(axis=1)]"
   ]
  },
  {
   "cell_type": "code",
   "execution_count": 25,
   "metadata": {},
   "outputs": [
    {
     "name": "stdout",
     "output_type": "stream",
     "text": [
      "(25765, 16)\n"
     ]
    },
    {
     "data": {
      "text/html": [
       "<div>\n",
       "<style scoped>\n",
       "    .dataframe tbody tr th:only-of-type {\n",
       "        vertical-align: middle;\n",
       "    }\n",
       "\n",
       "    .dataframe tbody tr th {\n",
       "        vertical-align: top;\n",
       "    }\n",
       "\n",
       "    .dataframe thead th {\n",
       "        text-align: right;\n",
       "    }\n",
       "</style>\n",
       "<table border=\"1\" class=\"dataframe\">\n",
       "  <thead>\n",
       "    <tr style=\"text-align: right;\">\n",
       "      <th></th>\n",
       "      <th>Date</th>\n",
       "      <th>Customer Name</th>\n",
       "      <th>Dealer_Name</th>\n",
       "      <th>Company</th>\n",
       "      <th>Model</th>\n",
       "      <th>Year</th>\n",
       "      <th>Body Style</th>\n",
       "      <th>Transmission</th>\n",
       "      <th>Color</th>\n",
       "      <th>Dealer_Add</th>\n",
       "      <th>CouncilArea</th>\n",
       "      <th>Phone</th>\n",
       "      <th>Gender</th>\n",
       "      <th>Annual Income</th>\n",
       "      <th>Dealer_Region</th>\n",
       "      <th>Target</th>\n",
       "    </tr>\n",
       "  </thead>\n",
       "  <tbody>\n",
       "    <tr>\n",
       "      <td>0</td>\n",
       "      <td>28.910</td>\n",
       "      <td>27.875</td>\n",
       "      <td>27.602</td>\n",
       "      <td>29.302</td>\n",
       "      <td>22.298</td>\n",
       "      <td>2015</td>\n",
       "      <td>26.130</td>\n",
       "      <td>28.132</td>\n",
       "      <td>28.530</td>\n",
       "      <td>28.125</td>\n",
       "      <td>28.255</td>\n",
       "      <td>8264678</td>\n",
       "      <td>1</td>\n",
       "      <td>13500</td>\n",
       "      <td>27.948</td>\n",
       "      <td>3</td>\n",
       "    </tr>\n",
       "    <tr>\n",
       "      <td>1</td>\n",
       "      <td>27.442</td>\n",
       "      <td>30.042</td>\n",
       "      <td>28.050</td>\n",
       "      <td>26.276</td>\n",
       "      <td>22.368</td>\n",
       "      <td>2015</td>\n",
       "      <td>26.130</td>\n",
       "      <td>28.132</td>\n",
       "      <td>28.530</td>\n",
       "      <td>26.750</td>\n",
       "      <td>28.255</td>\n",
       "      <td>6848189</td>\n",
       "      <td>1</td>\n",
       "      <td>1480000</td>\n",
       "      <td>28.052</td>\n",
       "      <td>2</td>\n",
       "    </tr>\n",
       "    <tr>\n",
       "      <td>3</td>\n",
       "      <td>28.523</td>\n",
       "      <td>25.588</td>\n",
       "      <td>28.070</td>\n",
       "      <td>29.417</td>\n",
       "      <td>25.524</td>\n",
       "      <td>2016</td>\n",
       "      <td>26.130</td>\n",
       "      <td>27.790</td>\n",
       "      <td>26.979</td>\n",
       "      <td>32.875</td>\n",
       "      <td>28.255</td>\n",
       "      <td>6257557</td>\n",
       "      <td>1</td>\n",
       "      <td>13500</td>\n",
       "      <td>27.904</td>\n",
       "      <td>1</td>\n",
       "    </tr>\n",
       "    <tr>\n",
       "      <td>4</td>\n",
       "      <td>27.868</td>\n",
       "      <td>26.568</td>\n",
       "      <td>27.741</td>\n",
       "      <td>24.493</td>\n",
       "      <td>22.218</td>\n",
       "      <td>2015</td>\n",
       "      <td>26.802</td>\n",
       "      <td>28.132</td>\n",
       "      <td>28.424</td>\n",
       "      <td>22.125</td>\n",
       "      <td>28.255</td>\n",
       "      <td>7081483</td>\n",
       "      <td>1</td>\n",
       "      <td>1465000</td>\n",
       "      <td>28.076</td>\n",
       "      <td>3</td>\n",
       "    </tr>\n",
       "    <tr>\n",
       "      <td>5</td>\n",
       "      <td>27.868</td>\n",
       "      <td>29.000</td>\n",
       "      <td>28.169</td>\n",
       "      <td>26.417</td>\n",
       "      <td>22.213</td>\n",
       "      <td>2016</td>\n",
       "      <td>26.802</td>\n",
       "      <td>27.790</td>\n",
       "      <td>28.424</td>\n",
       "      <td>24.875</td>\n",
       "      <td>28.255</td>\n",
       "      <td>7315216</td>\n",
       "      <td>1</td>\n",
       "      <td>850000</td>\n",
       "      <td>27.879</td>\n",
       "      <td>1</td>\n",
       "    </tr>\n",
       "  </tbody>\n",
       "</table>\n",
       "</div>"
      ],
      "text/plain": [
       "     Date  Customer Name  Dealer_Name  Company   Model  Year  Body Style  \\\n",
       "0  28.910         27.875       27.602   29.302  22.298  2015      26.130   \n",
       "1  27.442         30.042       28.050   26.276  22.368  2015      26.130   \n",
       "3  28.523         25.588       28.070   29.417  25.524  2016      26.130   \n",
       "4  27.868         26.568       27.741   24.493  22.218  2015      26.802   \n",
       "5  27.868         29.000       28.169   26.417  22.213  2016      26.802   \n",
       "\n",
       "   Transmission   Color  Dealer_Add  CouncilArea    Phone  Gender  \\\n",
       "0        28.132  28.530      28.125       28.255  8264678       1   \n",
       "1        28.132  28.530      26.750       28.255  6848189       1   \n",
       "3        27.790  26.979      32.875       28.255  6257557       1   \n",
       "4        28.132  28.424      22.125       28.255  7081483       1   \n",
       "5        27.790  28.424      24.875       28.255  7315216       1   \n",
       "\n",
       "   Annual Income  Dealer_Region  Target  \n",
       "0          13500         27.948       3  \n",
       "1        1480000         28.052       2  \n",
       "3          13500         27.904       1  \n",
       "4        1465000         28.076       3  \n",
       "5         850000         27.879       1  "
      ]
     },
     "execution_count": 25,
     "metadata": {},
     "output_type": "execute_result"
    }
   ],
   "source": [
    "print(df.shape)\n",
    "df.head()"
   ]
  },
  {
   "cell_type": "code",
   "execution_count": 26,
   "metadata": {},
   "outputs": [],
   "source": [
    "## this code is designed to find the number of features needed in the X data for an optimal accuracy score\n",
    "\n",
    "def optimize_score_rfe(dataframe,method,style,target_variable,cross_val=5,goal='accuracy'):\n",
    "    \n",
    "    \"\"\"\n",
    "    Input a goal, method, style (the method of analysis written as a string), and number of cross validations and \n",
    "    receive an optimal score, number of features used, and list of features used as an output\n",
    "    \"\"\"\n",
    "    \n",
    "    from sklearn.preprocessing import MinMaxScaler\n",
    "    from sklearn.feature_selection import RFE\n",
    "    mms = MinMaxScaler()\n",
    "    old_score = 0\n",
    "    old_features_used = 1\n",
    "\n",
    "    for i in range(1,df.shape[1]):\n",
    "        y = dataframe.Target\n",
    "        X = dataframe.drop('Target',axis=1)\n",
    "        selector = RFE(method,n_features_to_select=i)\n",
    "        # selector = RFECV(estimator=method, step=1, cv=StratifiedKFold(cross_val), scoring=goal,min_features_to_select=i)\n",
    "        selector = selector.fit(X, y.values.ravel())\n",
    "        selected_columns = X.columns[selector.support_]\n",
    "        new_y = dataframe.Target\n",
    "        new_X = dataframe[selected_columns]\n",
    "        for col in new_X.columns:\n",
    "            new_X[col] = mms.fit_transform(new_X[[col]])\n",
    "        X_train, X_test, y_train, y_test = train_test_split(new_X,new_y,test_size=0.25,random_state=14) \n",
    "        method.fit(X_train,y_train)\n",
    "        Y_pred = method.predict(X_test)\n",
    "        if style == 'Linear_Regression':\n",
    "            accuracy = r2_score(y_test, Y_pred)\n",
    "        else:\n",
    "            accuracy = accuracy_score(y_test, Y_pred)\n",
    "        new_score = accuracy\n",
    "        if new_score > old_score:\n",
    "            score = new_score\n",
    "            features_used = i\n",
    "            old_score = new_score\n",
    "            old_features_used = i\n",
    "        else:\n",
    "            score = old_score\n",
    "            features_used = old_features_used\n",
    "        # selector_new = RFECV(estimator=method, step=1, cv=StratifiedKFold(cross_val), scoring='accuracy',min_features_to_select=features_used)\n",
    "        selector_new = RFE(method,n_features_to_select=features_used)\n",
    "        selector_new = selector_new.fit(X, y.values.ravel())\n",
    "        selected_columns_new = X.columns[selector_new.support_]\n",
    "\n",
    "    print(f'Predicting: {target_variable}')\n",
    "    print('')\n",
    "    print(f'The optimal score is {100*round(score,2)}%, and it makes use of {features_used} features from the data.')\n",
    "    print('')\n",
    "    print(f'Those features are: {list(selected_columns_new)}')"
   ]
  },
  {
   "cell_type": "code",
   "execution_count": 27,
   "metadata": {},
   "outputs": [
    {
     "name": "stdout",
     "output_type": "stream",
     "text": [
      "Predicting: Car Prcie\n",
      "\n",
      "The optimal score is 41.0%, and it makes use of 13 features from the data.\n",
      "\n",
      "Those features are: ['Date', 'Customer Name', 'Dealer_Name', 'Company', 'Model', 'Year', 'Body Style', 'Transmission', 'Dealer_Add', 'CouncilArea', 'Phone', 'Annual Income', 'Dealer_Region']\n",
      "Elapsed time:  0:00:38.794002\n"
     ]
    }
   ],
   "source": [
    "start=dt.datetime.now()\n",
    "optimize_score_rfe(df,LogisticRegression(random_state=14),'Logistic_Regression','Car Prcie')\n",
    "print('Elapsed time: ',str(dt.datetime.now()-start))"
   ]
  },
  {
   "cell_type": "code",
   "execution_count": 28,
   "metadata": {},
   "outputs": [],
   "source": [
    "## Already an improved score from linear regression!"
   ]
  },
  {
   "cell_type": "code",
   "execution_count": 29,
   "metadata": {},
   "outputs": [],
   "source": [
    "def create_polynomial_regression_model(degree,df,model_type,ts=0.25):\n",
    "    \n",
    "    \"Creates a polynomial regression model for the given degree\"\n",
    "  \n",
    "    poly_features = PolynomialFeatures(degree=degree)\n",
    "    \n",
    "    X = df.drop('Target',axis=1)\n",
    "    y = df.Target\n",
    "    \n",
    "    X_train, X_test, y_train, y_test = train_test_split(X,y,random_state=14,test_size=ts)\n",
    "  \n",
    "    # transforms the existing features to higher degree features.\n",
    "    X_train_poly = poly_features.fit_transform(X_train)\n",
    "  \n",
    "    # fit the transformed features to Linear Regression\n",
    "    poly_model = model_type\n",
    "    poly_model.fit(X_train_poly, y_train)\n",
    "  \n",
    "    # predicting on training data-set\n",
    "    y_train_predicted = poly_model.predict(X_train_poly)\n",
    "  \n",
    "    # predicting on test data-set\n",
    "    y_test_predict = poly_model.predict(poly_features.fit_transform(X_test))\n",
    "  \n",
    "    # Linear Regression\n",
    "    if model_type == LinearRegression():\n",
    "        # evaluating the model on training dataset\n",
    "        train_score = round(r2_score(y_train, y_train_predicted),3)\n",
    "  \n",
    "        # evaluating the model on test dataset\n",
    "        test_score = round(r2_score(y_test, y_test_predict),3)\n",
    "    \n",
    "    # Classification\n",
    "    else:\n",
    "        train_score = round(accuracy_score(y_train,y_train_predicted),3)\n",
    "        test_score = round(accuracy_score(y_test, y_test_predict),3)\n",
    "    \n",
    "  \n",
    "    print(\"The model performance for the training set\")\n",
    "    print(\"-------------------------------------------\")\n",
    "    print(\"Score of training set is {}\".format(train_score))\n",
    "  \n",
    "    print(\"\\n\")\n",
    "  \n",
    "    print(\"The model performance for the test set\")\n",
    "    print(\"-------------------------------------------\")\n",
    "    print(\"Score of test set is {}\".format(test_score))"
   ]
  },
  {
   "cell_type": "code",
   "execution_count": 30,
   "metadata": {},
   "outputs": [
    {
     "name": "stdout",
     "output_type": "stream",
     "text": [
      "The model performance for the training set\n",
      "-------------------------------------------\n",
      "Score of training set is 1.0\n",
      "\n",
      "\n",
      "The model performance for the test set\n",
      "-------------------------------------------\n",
      "Score of test set is 0.886\n",
      "Elapsed time:  0:00:12.393205\n"
     ]
    }
   ],
   "source": [
    "start=dt.datetime.now()\n",
    "create_polynomial_regression_model(2,df[['Date', 'Customer Name', 'Dealer_Name', 'Company', 'Model', 'Year', 'Body Style', 'Transmission', 'Color', 'Dealer_Add', 'CouncilArea', 'Phone', 'Gender', 'Annual Income', 'Dealer_Region','Target']],RandomForestClassifier())\n",
    "print('Elapsed time: ',str(dt.datetime.now()-start))"
   ]
  },
  {
   "cell_type": "markdown",
   "metadata": {},
   "source": [
    "## Wow! By using polynomials and classification in place of linear regression I was not only to improve the accuracy but by also using polynomial features I nearly doubled the training accuracy"
   ]
  }
 ],
 "metadata": {
  "kernelspec": {
   "display_name": "Python 3",
   "language": "python",
   "name": "python3"
  },
  "language_info": {
   "codemirror_mode": {
    "name": "ipython",
    "version": 3
   },
   "file_extension": ".py",
   "mimetype": "text/x-python",
   "name": "python",
   "nbconvert_exporter": "python",
   "pygments_lexer": "ipython3",
   "version": "3.7.4"
  }
 },
 "nbformat": 4,
 "nbformat_minor": 4
}
